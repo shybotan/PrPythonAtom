{
 "cells": [
  {
   "cell_type": "markdown",
   "metadata": {},
   "source": [
    "# Недельник 1\n",
    "\n",
    "Как было сказано на лекции, на текущей неделе вы получаете ежедневные задания. Система оценки следующая: в первый день(четверг) вы делаете первый pull-request в ветку homework_01. Потом каждый день делаете коммит, он будет автоматически привязывать к pull-request. Если задачка не сделана в течении 2-х дней она сгорает. (Можно четверг сделать в четверг и пятницу)"
   ]
  },
  {
   "cell_type": "markdown",
   "metadata": {},
   "source": [
    "# Четверг"
   ]
  },
  {
   "cell_type": "code",
   "execution_count": 76,
   "metadata": {},
   "outputs": [],
   "source": [
    "#TODO Сделайте калькулятор произвольных выражений, операции следующие: +, -, /, ^, *. скобок нет\n",
    "def calculate(input_str):\n",
    "    input_str=input_str.replace('^','**')\n",
    "    try:\n",
    "        a=eval(input_str)\n",
    "    except ZeroDivisionError:\n",
    "        print(\"You can't divide by zero\")\n",
    "        return \"ERROR\"\n",
    "    return a"
   ]
  },
  {
   "cell_type": "code",
   "execution_count": 77,
   "metadata": {},
   "outputs": [
    {
     "name": "stdout",
     "output_type": "stream",
     "text": [
      "You can't divide by zero\n"
     ]
    }
   ],
   "source": [
    "assert calculate(\"2 + 2 * 2\") == 6\n",
    "assert calculate(\"345 / 5 * 21\") == 1449.\n",
    "assert calculate(\"3^3 - 10 + 41 * 3\") == 140 \n",
    "assert calculate(\"42 / 7 * 32\") == 192.0\n",
    "#TODO Дополнить еще 2-мя своими тестами\n",
    "\n",
    "#3 пример неверный. заменено на 140\n",
    "#при деление на 0 возвращает \"ERROR\" + вывод об ошибке\n",
    "\n",
    "assert calculate(\"42/0+1\") == \"ERROR\"\n",
    "assert calculate(\"-10*3 + 4\") ==-26"
   ]
  },
  {
   "cell_type": "markdown",
   "metadata": {},
   "source": [
    "# Пятница"
   ]
  },
  {
   "cell_type": "code",
   "execution_count": 218,
   "metadata": {},
   "outputs": [],
   "source": [
    "#TODO метод разворачивающий строку HE2LO -> HELLO (число означает сколько раз встречается буква)\n",
    "def transform_string(inp_string):\n",
    "    if(len(inp_string)==2)&(inp_string[0]=='0'):\n",
    "        return ''\n",
    "    s=\"\"\n",
    "    flag=True\n",
    "    for i in range(len(inp_string)):\n",
    "        l=\"\"\n",
    "        if not(inp_string[i].isdigit()):    \n",
    "            s=s+inp_string[i]\n",
    "            i=i+1\n",
    "            flag=True\n",
    "            continue \n",
    "        if flag==False:\n",
    "            continue\n",
    "        while inp_string[i].isdigit():\n",
    "            l=l+inp_string[i]\n",
    "            i=i+1\n",
    "        if(int(l)>9):\n",
    "            flag=False\n",
    "        if int(l)==0:\n",
    "            inp_string=inp_string.replace(inp_string[i],\"1\")\n",
    "        s=s+(int(l)-1)*inp_string[i]  \n",
    "    return s"
   ]
  },
  {
   "cell_type": "code",
   "execution_count": 219,
   "metadata": {},
   "outputs": [],
   "source": [
    "assert transform_string(\"HE2LO\") == \"HELLO\"\n",
    "assert transform_string(\"HI\") == \"HI\"\n",
    "assert transform_string(\"пр12ивет\") == \"приииииииииииивет\"\n",
    "assert transform_string(\"2л3у78н65тик\") == 'ллуууннннннннннннннннннннннннннннннннннннннннннннннннннннннннннннннннннннннннннннннтттттттттттттттттттттттттттттттттттттттттттттттттттттттттттттттттик'\n",
    "\n",
    "#TODO Дописать 2 своих теста\n",
    "assert transform_string(\"1д\") == 'д'\n",
    "assert transform_string(\"0дл\")== 'л'\n",
    "assert transform_string(\"0д\")== ''\n",
    "assert transform_string(\"-2л-\") =='-лл-'\n",
    "#во-первых. Оказывается цикл For строгий.\n",
    "#что я имею в виду: вне зависимости от внутренних преобразований с i\n",
    "#i всегда будет расти\\убывать с одинаковым шагом\n",
    "#поэтому я использовала флаги\n",
    "#да. я знаю, что мой код-дедушка хромающий с костылями\n",
    "#воспринимает '-', как символ, а не знак цифры"
   ]
  },
  {
   "cell_type": "markdown",
   "metadata": {},
   "source": [
    "# Суббота"
   ]
  },
  {
   "cell_type": "code",
   "execution_count": 29,
   "metadata": {},
   "outputs": [],
   "source": [
    "#TODO метод выводящий статистику по строке, кол-во гласных-0, согласных-1, цифр-2, строчных букв-3, прописных букв-4\n",
    "def string_stat(inp_string):\n",
    "    a=[0,0,0,0,0]\n",
    "    g=set(\"АаЕеЁёИиОоУуЫыЭэЮюЯяAaEeIiOoUuYy\")\n",
    "    s=set(\"БбВвГгДдЖжЗзЙйКкЛлМмНнПпРрСсТтФфХхЦцЧчШшЩщЪъЬьBbCcDdFfGgHhJjKkLlMmNnPpQqRrSsTtVvWwXxZz\")\n",
    "    for i in range(len(inp_string)):\n",
    "        if inp_string[i].isdigit():\n",
    "            a[2]= a[2]+1\n",
    "            continue\n",
    "        if inp_string[i].islower():\n",
    "            a[3]=a[3]+1\n",
    "        if inp_string[i].isupper():\n",
    "            a[4]=a[4]+1\n",
    "            #не написала else, потому что в строке могут быть знаки препинания/ аналогично в след.\n",
    "        if (inp_string[i] in g):\n",
    "            a[0]=a[0]+1\n",
    "        if (inp_string[i] in s):\n",
    "            a[1]=a[1]+1\n",
    "    b=tuple()\n",
    "    b=(a[0],a[1],a[2],a[3],a[4])\n",
    "    return b"
   ]
  },
  {
   "cell_type": "code",
   "execution_count": 30,
   "metadata": {},
   "outputs": [],
   "source": [
    "assert string_stat(\"Тевирп\") == (2, 4, 0, 5, 1)\n",
    "assert string_stat(\"КоРоВа4\") == (3, 3, 1, 3, 3)\n",
    "\n",
    "#TODO 2 своих теста\n",
    "assert string_stat(\"abcABC4\") == (2,4,1,3,3)\n",
    "assert string_stat(\"-----\") == (0,0,0,0,0)"
   ]
  },
  {
   "cell_type": "markdown",
   "metadata": {},
   "source": [
    "# Воскресенье - ВЫХОДНОЙ"
   ]
  },
  {
   "cell_type": "markdown",
   "metadata": {},
   "source": [
    "# Понедельник"
   ]
  },
  {
   "cell_type": "code",
   "execution_count": 92,
   "metadata": {},
   "outputs": [],
   "source": [
    "#TODO инвертируйте словарь из k - [v_1, v_2] в v_1 [k_1]\n",
    "def dict_inverter(input_dict):\n",
    "    d=dict()\n",
    "    for key,value in input_dict.items():\n",
    "        for i in range(len(value)):\n",
    "            di={value[i]:key}\n",
    "            if not (value[i] in d):\n",
    "                d={**d,**di}\n",
    "            else:\n",
    "                di={value[i]:[key,d[value[i]]]}\n",
    "                d={**d,**di}\n",
    "    return d"
   ]
  },
  {
   "cell_type": "code",
   "execution_count": 93,
   "metadata": {},
   "outputs": [],
   "source": [
    "assert dict_inverter({\"mango\" : [\"eatable\"], \"pillow\": [\"sleepable\"]}) == {\"eatable\": \"mango\", \"sleepable\": \"pillow\"}\n",
    "assert dict_inverter({\"mango\" : [\"eatable\", \"readable\"]}) == {\"readable\":\"mango\", \"eatable\":\"mango\"}\n",
    "assert dict_inverter({\"mango\" : [\"eatable\"], \"banana\": [\"eatable\"]}) == {\"eatable\": [ \"banana\",\"mango\"]}\n",
    "\n",
    "#TODO Один свой тест\n",
    "#поменяла местами 2 тест( манго и банан)\n",
    "assert dict_inverter ({\"lol\":[\"kek\",\"eto\",\"cheburek\"]}) == {\"kek\": \"lol\", \"eto\": \"lol\", \"cheburek\": \"lol\"}"
   ]
  },
  {
   "cell_type": "markdown",
   "metadata": {},
   "source": [
    "# Вторник"
   ]
  },
  {
   "cell_type": "code",
   "execution_count": 236,
   "metadata": {},
   "outputs": [],
   "source": [
    "#TODO вывести уникальные элементы массива\n",
    "def uniq_array(input_arr):\n",
    "    a=set(input_arr)\n",
    "    return list(a)"
   ]
  },
  {
   "cell_type": "code",
   "execution_count": 237,
   "metadata": {},
   "outputs": [],
   "source": [
    "assert uniq_array([0]) == [0]\n",
    "assert uniq_array([0, 1, 2, 3]) == [0, 1, 2, 3]\n",
    "assert uniq_array([\"f\", \"t\",\"f\"]) == ['f', 't']\n",
    "assert uniq_array(['rt', 'rt']) == ['rt']"
   ]
  },
  {
   "cell_type": "code",
   "execution_count": null,
   "metadata": {},
   "outputs": [],
   "source": []
  },
  {
   "cell_type": "code",
   "execution_count": null,
   "metadata": {},
   "outputs": [],
   "source": []
  }
 ],
 "metadata": {
  "kernelspec": {
   "display_name": "Python 3",
   "language": "python",
   "name": "python3"
  },
  "language_info": {
   "codemirror_mode": {
    "name": "ipython",
    "version": 3
   },
   "file_extension": ".py",
   "mimetype": "text/x-python",
   "name": "python",
   "nbconvert_exporter": "python",
   "pygments_lexer": "ipython3",
   "version": "3.6.5"
  }
 },
 "nbformat": 4,
 "nbformat_minor": 2
}
