{
 "cells": [
  {
   "cell_type": "markdown",
   "metadata": {},
   "source": [
    "# HW"
   ]
  },
  {
   "cell_type": "raw",
   "metadata": {},
   "source": [
    "Мои Фамилия Имя: Прокопенко Ирина "
   ]
  },
  {
   "cell_type": "code",
   "execution_count": 71,
   "metadata": {},
   "outputs": [],
   "source": [
    "import numpy as np\n",
    "import pandas as pd"
   ]
  },
  {
   "cell_type": "markdown",
   "metadata": {},
   "source": [
    "##### Загрузите датасет titanic.csv"
   ]
  },
  {
   "cell_type": "code",
   "execution_count": 72,
   "metadata": {},
   "outputs": [],
   "source": [
    "df_titanic = pd.read_csv('titanic.csv')"
   ]
  },
  {
   "cell_type": "code",
   "execution_count": 73,
   "metadata": {},
   "outputs": [
    {
     "data": {
      "text/html": [
       "<div>\n",
       "<style scoped>\n",
       "    .dataframe tbody tr th:only-of-type {\n",
       "        vertical-align: middle;\n",
       "    }\n",
       "\n",
       "    .dataframe tbody tr th {\n",
       "        vertical-align: top;\n",
       "    }\n",
       "\n",
       "    .dataframe thead th {\n",
       "        text-align: right;\n",
       "    }\n",
       "</style>\n",
       "<table border=\"1\" class=\"dataframe\">\n",
       "  <thead>\n",
       "    <tr style=\"text-align: right;\">\n",
       "      <th></th>\n",
       "      <th>PassengerId</th>\n",
       "      <th>Survived</th>\n",
       "      <th>Pclass</th>\n",
       "      <th>Name</th>\n",
       "      <th>Sex</th>\n",
       "      <th>Age</th>\n",
       "      <th>SibSp</th>\n",
       "      <th>Parch</th>\n",
       "      <th>Ticket</th>\n",
       "      <th>Fare</th>\n",
       "      <th>Cabin</th>\n",
       "      <th>Embarked</th>\n",
       "    </tr>\n",
       "  </thead>\n",
       "  <tbody>\n",
       "    <tr>\n",
       "      <th>0</th>\n",
       "      <td>1</td>\n",
       "      <td>0</td>\n",
       "      <td>3</td>\n",
       "      <td>Braund, Mr. Owen Harris</td>\n",
       "      <td>male</td>\n",
       "      <td>22.0</td>\n",
       "      <td>1</td>\n",
       "      <td>0</td>\n",
       "      <td>A/5 21171</td>\n",
       "      <td>7.2500</td>\n",
       "      <td>NaN</td>\n",
       "      <td>S</td>\n",
       "    </tr>\n",
       "    <tr>\n",
       "      <th>1</th>\n",
       "      <td>2</td>\n",
       "      <td>1</td>\n",
       "      <td>1</td>\n",
       "      <td>Cumings, Mrs. John Bradley (Florence Briggs Th...</td>\n",
       "      <td>female</td>\n",
       "      <td>38.0</td>\n",
       "      <td>1</td>\n",
       "      <td>0</td>\n",
       "      <td>PC 17599</td>\n",
       "      <td>71.2833</td>\n",
       "      <td>C85</td>\n",
       "      <td>C</td>\n",
       "    </tr>\n",
       "    <tr>\n",
       "      <th>2</th>\n",
       "      <td>3</td>\n",
       "      <td>1</td>\n",
       "      <td>3</td>\n",
       "      <td>Heikkinen, Miss. Laina</td>\n",
       "      <td>female</td>\n",
       "      <td>26.0</td>\n",
       "      <td>0</td>\n",
       "      <td>0</td>\n",
       "      <td>STON/O2. 3101282</td>\n",
       "      <td>7.9250</td>\n",
       "      <td>NaN</td>\n",
       "      <td>S</td>\n",
       "    </tr>\n",
       "    <tr>\n",
       "      <th>3</th>\n",
       "      <td>4</td>\n",
       "      <td>1</td>\n",
       "      <td>1</td>\n",
       "      <td>Futrelle, Mrs. Jacques Heath (Lily May Peel)</td>\n",
       "      <td>female</td>\n",
       "      <td>35.0</td>\n",
       "      <td>1</td>\n",
       "      <td>0</td>\n",
       "      <td>113803</td>\n",
       "      <td>53.1000</td>\n",
       "      <td>C123</td>\n",
       "      <td>S</td>\n",
       "    </tr>\n",
       "    <tr>\n",
       "      <th>4</th>\n",
       "      <td>5</td>\n",
       "      <td>0</td>\n",
       "      <td>3</td>\n",
       "      <td>Allen, Mr. William Henry</td>\n",
       "      <td>male</td>\n",
       "      <td>35.0</td>\n",
       "      <td>0</td>\n",
       "      <td>0</td>\n",
       "      <td>373450</td>\n",
       "      <td>8.0500</td>\n",
       "      <td>NaN</td>\n",
       "      <td>S</td>\n",
       "    </tr>\n",
       "  </tbody>\n",
       "</table>\n",
       "</div>"
      ],
      "text/plain": [
       "   PassengerId  Survived  Pclass  \\\n",
       "0            1         0       3   \n",
       "1            2         1       1   \n",
       "2            3         1       3   \n",
       "3            4         1       1   \n",
       "4            5         0       3   \n",
       "\n",
       "                                                Name     Sex   Age  SibSp  \\\n",
       "0                            Braund, Mr. Owen Harris    male  22.0      1   \n",
       "1  Cumings, Mrs. John Bradley (Florence Briggs Th...  female  38.0      1   \n",
       "2                             Heikkinen, Miss. Laina  female  26.0      0   \n",
       "3       Futrelle, Mrs. Jacques Heath (Lily May Peel)  female  35.0      1   \n",
       "4                           Allen, Mr. William Henry    male  35.0      0   \n",
       "\n",
       "   Parch            Ticket     Fare Cabin Embarked  \n",
       "0      0         A/5 21171   7.2500   NaN        S  \n",
       "1      0          PC 17599  71.2833   C85        C  \n",
       "2      0  STON/O2. 3101282   7.9250   NaN        S  \n",
       "3      0            113803  53.1000  C123        S  \n",
       "4      0            373450   8.0500   NaN        S  "
      ]
     },
     "execution_count": 73,
     "metadata": {},
     "output_type": "execute_result"
    }
   ],
   "source": [
    "df_titanic.head()"
   ]
  },
  {
   "cell_type": "code",
   "execution_count": 74,
   "metadata": {
    "scrolled": true
   },
   "outputs": [
    {
     "data": {
      "text/plain": [
       "(891, 12)"
      ]
     },
     "execution_count": 74,
     "metadata": {},
     "output_type": "execute_result"
    }
   ],
   "source": [
    "df_titanic.shape"
   ]
  },
  {
   "cell_type": "code",
   "execution_count": 75,
   "metadata": {},
   "outputs": [
    {
     "name": "stdout",
     "output_type": "stream",
     "text": [
      "<class 'pandas.core.frame.DataFrame'>\n",
      "RangeIndex: 891 entries, 0 to 890\n",
      "Data columns (total 12 columns):\n",
      "PassengerId    891 non-null int64\n",
      "Survived       891 non-null int64\n",
      "Pclass         891 non-null int64\n",
      "Name           891 non-null object\n",
      "Sex            891 non-null object\n",
      "Age            714 non-null float64\n",
      "SibSp          891 non-null int64\n",
      "Parch          891 non-null int64\n",
      "Ticket         891 non-null object\n",
      "Fare           891 non-null float64\n",
      "Cabin          204 non-null object\n",
      "Embarked       889 non-null object\n",
      "dtypes: float64(2), int64(5), object(5)\n",
      "memory usage: 83.6+ KB\n"
     ]
    }
   ],
   "source": [
    "df_titanic.info()"
   ]
  },
  {
   "cell_type": "markdown",
   "metadata": {},
   "source": [
    "> Обратите внимание на разное количество значений переменных\n",
    "Если это так - то у вас пропуски в данных. Такое бывает. \n",
    "Например в этом датасете не получилось выяснить всех подробностей у некоторых людей в виду утери данных, невозможности узнать или восстановить их"
   ]
  },
  {
   "cell_type": "code",
   "execution_count": 76,
   "metadata": {},
   "outputs": [
    {
     "data": {
      "text/html": [
       "<div>\n",
       "<style scoped>\n",
       "    .dataframe tbody tr th:only-of-type {\n",
       "        vertical-align: middle;\n",
       "    }\n",
       "\n",
       "    .dataframe tbody tr th {\n",
       "        vertical-align: top;\n",
       "    }\n",
       "\n",
       "    .dataframe thead th {\n",
       "        text-align: right;\n",
       "    }\n",
       "</style>\n",
       "<table border=\"1\" class=\"dataframe\">\n",
       "  <thead>\n",
       "    <tr style=\"text-align: right;\">\n",
       "      <th></th>\n",
       "      <th>PassengerId</th>\n",
       "      <th>Survived</th>\n",
       "      <th>Pclass</th>\n",
       "      <th>Age</th>\n",
       "      <th>SibSp</th>\n",
       "      <th>Parch</th>\n",
       "      <th>Fare</th>\n",
       "    </tr>\n",
       "  </thead>\n",
       "  <tbody>\n",
       "    <tr>\n",
       "      <th>count</th>\n",
       "      <td>891.000000</td>\n",
       "      <td>891.000000</td>\n",
       "      <td>891.000000</td>\n",
       "      <td>714.000000</td>\n",
       "      <td>891.000000</td>\n",
       "      <td>891.000000</td>\n",
       "      <td>891.000000</td>\n",
       "    </tr>\n",
       "    <tr>\n",
       "      <th>mean</th>\n",
       "      <td>446.000000</td>\n",
       "      <td>0.383838</td>\n",
       "      <td>2.308642</td>\n",
       "      <td>29.699118</td>\n",
       "      <td>0.523008</td>\n",
       "      <td>0.381594</td>\n",
       "      <td>32.204208</td>\n",
       "    </tr>\n",
       "    <tr>\n",
       "      <th>std</th>\n",
       "      <td>257.353842</td>\n",
       "      <td>0.486592</td>\n",
       "      <td>0.836071</td>\n",
       "      <td>14.526497</td>\n",
       "      <td>1.102743</td>\n",
       "      <td>0.806057</td>\n",
       "      <td>49.693429</td>\n",
       "    </tr>\n",
       "    <tr>\n",
       "      <th>min</th>\n",
       "      <td>1.000000</td>\n",
       "      <td>0.000000</td>\n",
       "      <td>1.000000</td>\n",
       "      <td>0.420000</td>\n",
       "      <td>0.000000</td>\n",
       "      <td>0.000000</td>\n",
       "      <td>0.000000</td>\n",
       "    </tr>\n",
       "    <tr>\n",
       "      <th>25%</th>\n",
       "      <td>223.500000</td>\n",
       "      <td>0.000000</td>\n",
       "      <td>2.000000</td>\n",
       "      <td>20.125000</td>\n",
       "      <td>0.000000</td>\n",
       "      <td>0.000000</td>\n",
       "      <td>7.910400</td>\n",
       "    </tr>\n",
       "    <tr>\n",
       "      <th>50%</th>\n",
       "      <td>446.000000</td>\n",
       "      <td>0.000000</td>\n",
       "      <td>3.000000</td>\n",
       "      <td>28.000000</td>\n",
       "      <td>0.000000</td>\n",
       "      <td>0.000000</td>\n",
       "      <td>14.454200</td>\n",
       "    </tr>\n",
       "    <tr>\n",
       "      <th>75%</th>\n",
       "      <td>668.500000</td>\n",
       "      <td>1.000000</td>\n",
       "      <td>3.000000</td>\n",
       "      <td>38.000000</td>\n",
       "      <td>1.000000</td>\n",
       "      <td>0.000000</td>\n",
       "      <td>31.000000</td>\n",
       "    </tr>\n",
       "    <tr>\n",
       "      <th>max</th>\n",
       "      <td>891.000000</td>\n",
       "      <td>1.000000</td>\n",
       "      <td>3.000000</td>\n",
       "      <td>80.000000</td>\n",
       "      <td>8.000000</td>\n",
       "      <td>6.000000</td>\n",
       "      <td>512.329200</td>\n",
       "    </tr>\n",
       "  </tbody>\n",
       "</table>\n",
       "</div>"
      ],
      "text/plain": [
       "       PassengerId    Survived      Pclass         Age       SibSp  \\\n",
       "count   891.000000  891.000000  891.000000  714.000000  891.000000   \n",
       "mean    446.000000    0.383838    2.308642   29.699118    0.523008   \n",
       "std     257.353842    0.486592    0.836071   14.526497    1.102743   \n",
       "min       1.000000    0.000000    1.000000    0.420000    0.000000   \n",
       "25%     223.500000    0.000000    2.000000   20.125000    0.000000   \n",
       "50%     446.000000    0.000000    3.000000   28.000000    0.000000   \n",
       "75%     668.500000    1.000000    3.000000   38.000000    1.000000   \n",
       "max     891.000000    1.000000    3.000000   80.000000    8.000000   \n",
       "\n",
       "            Parch        Fare  \n",
       "count  891.000000  891.000000  \n",
       "mean     0.381594   32.204208  \n",
       "std      0.806057   49.693429  \n",
       "min      0.000000    0.000000  \n",
       "25%      0.000000    7.910400  \n",
       "50%      0.000000   14.454200  \n",
       "75%      0.000000   31.000000  \n",
       "max      6.000000  512.329200  "
      ]
     },
     "execution_count": 76,
     "metadata": {},
     "output_type": "execute_result"
    }
   ],
   "source": [
    "df_titanic.describe()"
   ]
  },
  {
   "cell_type": "markdown",
   "metadata": {},
   "source": [
    "> Давайте возьмем для начала только несколько признаков, позже - вы увеличите их количество и сделаете соответствующую обработку."
   ]
  },
  {
   "cell_type": "code",
   "execution_count": 77,
   "metadata": {},
   "outputs": [],
   "source": [
    "columns = ['Sex', 'Age', 'Pclass', 'Survived']"
   ]
  },
  {
   "cell_type": "code",
   "execution_count": 78,
   "metadata": {},
   "outputs": [],
   "source": [
    "simple_train = df_titanic[columns].loc[:500]\n",
    "simple_test = df_titanic[columns].loc[500:]"
   ]
  },
  {
   "cell_type": "markdown",
   "metadata": {},
   "source": [
    "> мы пока не умеем на уровне алгоритма работать с пропущенными значениями. \n",
    "Представьте вам дают 5-мерный вектор у которого заполнены только три компоненты и другой такой же вектор но у него заполнены лишь две  компоненты.  Как померить их сходство????\n",
    "\n",
    "distance_between( [1,0,1, NaN, NaN], [NaN, 1, 1, NaN, NaN] )\n"
   ]
  },
  {
   "cell_type": "markdown",
   "metadata": {},
   "source": [
    "> один из вариантов - заполнить какими то значениями - например если это возраст - то заполнить средним по датасету или нулем.\n",
    "\n",
    ">> на будущее - в sklearn есть такой модуль - http://scikit-learn.org/stable/modules/impute.html но сейчас можете заполнить пропуски средствами pandas - метод fillna()"
   ]
  },
  {
   "cell_type": "markdown",
   "metadata": {},
   "source": [
    "##### Заполните пропущенные значения чем нибудь"
   ]
  },
  {
   "cell_type": "code",
   "execution_count": 79,
   "metadata": {},
   "outputs": [],
   "source": [
    "simple_train = simple_train.fillna(0)\n",
    "simple_test = simple_test.fillna(0)\n",
    "# можно inplace делать такое, а можно переприсваивать."
   ]
  },
  {
   "cell_type": "markdown",
   "metadata": {},
   "source": [
    "> мы чемпионы. Но мы понимаем, что алгоритм у нас метрический - он не понимает как померить близость векторов в которых содержатся строки\n",
    "\n",
    "distance( [1,1,0,'мужик'], [1, 0, 1, 'принцесска'] )\n",
    "\n",
    "> поэтому давайте заведем признак is_man который будет принимать значение 0 или 1."
   ]
  },
  {
   "cell_type": "markdown",
   "metadata": {},
   "source": [
    "##### Заведите бинарный признак отвечающий за пол. Строковый удалите\n",
    "\n",
    "хинт - есть метод apply()"
   ]
  },
  {
   "cell_type": "code",
   "execution_count": 80,
   "metadata": {},
   "outputs": [],
   "source": [
    "change= lambda x: 0 if x == \"male\" else 1\n",
    "simple_train.Sex = simple_train.Sex.apply(change)\n",
    "simple_test.Sex = simple_test.Sex.apply(change)"
   ]
  },
  {
   "cell_type": "markdown",
   "metadata": {},
   "source": [
    "##### Сформируйте трейн и тест выборку, где в X лежат признаки 'Sex', 'Age', 'Pclass', а в у - Survived\n",
    "\n",
    "Результат - numpy array\n",
    "\n",
    "hint - у pandas есть метод drop() и атрибут values; Пощупайте их"
   ]
  },
  {
   "cell_type": "code",
   "execution_count": 81,
   "metadata": {},
   "outputs": [],
   "source": [
    "X_train = simple_train[['Sex','Age','Pclass']].values\n",
    "X_test = simple_test[['Sex','Age','Pclass']].values\n",
    "y_train = simple_train['Survived'].values\n",
    "y_test = simple_test['Survived'].values"
   ]
  },
  {
   "cell_type": "code",
   "execution_count": 82,
   "metadata": {},
   "outputs": [],
   "source": [
    "assert isinstance(X_train, np.ndarray)\n",
    "assert isinstance(X_test, np.ndarray)\n",
    "assert isinstance(y_train, np.ndarray)\n",
    "assert isinstance(y_test, np.ndarray)"
   ]
  },
  {
   "cell_type": "code",
   "execution_count": 83,
   "metadata": {},
   "outputs": [],
   "source": [
    "assert X_train.shape[0] == y_train.shape[0]\n",
    "assert X_test.shape[0] == y_test.shape[0]"
   ]
  },
  {
   "cell_type": "code",
   "execution_count": 84,
   "metadata": {},
   "outputs": [],
   "source": [
    "assert not np.any(np.isnan(X_train)), 'у вас в данных есть пропущенные значения. Заполните их или удалите'\n",
    "assert not np.any(np.isnan(X_test)), 'у вас в данных есть пропущенные значения. Заполните их или удалите'"
   ]
  },
  {
   "cell_type": "markdown",
   "metadata": {},
   "source": [
    "##### Реализуйте KNN. Сами, как делали это на лекции. \n",
    "\n",
    "Можете улучшить его.\n",
    "(например использовать kd-tree для быстрого поиска ближайших соседей, \n",
    " или обходить соседей и класть расстояния в мин-кучу - тогда вы быстрее будете набирать их, без сортировки.)"
   ]
  },
  {
   "cell_type": "code",
   "execution_count": 85,
   "metadata": {},
   "outputs": [],
   "source": [
    "class KNN:\n",
    "    \"\"\"\n",
    "    simple KNN classifier with O(n) complexity for memory,\n",
    "    and O(n log n) complexity - for nn search.\n",
    "    \"\"\"\n",
    "    \n",
    "    def __init__(self, n):\n",
    "        self.n = n\n",
    "        \n",
    "    def fit(self, X, y):\n",
    "        self.X = X\n",
    "        self.y = y\n",
    "    \n",
    "    def predict(self, X):\n",
    "        y_hat = []\n",
    "        assert len(X.shape) == 2\n",
    "        for peremennie in X:\n",
    "            ### Посчитаем расстояние от всех элементов в тренировочной выборке\n",
    "            # до текущего примера -> результат - вектор размерности трейна\n",
    "            d = 0\n",
    "            for i, elem in enumerate(peremennie):\n",
    "                d += (self.X[:,i]-elem)**2\n",
    "            d = np.sqrt(d)\n",
    "            ### Возьмем индексы n элементов, расстояние до которых минимально\n",
    "            ### результат -> вектор из n элементов\n",
    "            idx = np.argsort(d)[:self.n]\n",
    "            ### Посчитаем частоту меток для каждого случая \n",
    "            ### результат -> вектор длинны 2 который покажет\n",
    "            ### сколько соседей 0-го класса, сколько соседей 1-го класса.\n",
    "            count = np.bincount(self.y[idx])\n",
    "            ### возьмем самый часто встречаемый в соседях класс.\n",
    "            prediction = np.argmax(count)\n",
    "            y_hat.append(prediction)\n",
    "        return np.array(y_hat)"
   ]
  },
  {
   "cell_type": "code",
   "execution_count": 86,
   "metadata": {},
   "outputs": [],
   "source": [
    "knn = KNN(5)\n",
    "\n",
    "knn.fit(X_train, y_train)\n",
    "y_pred = knn.predict(X_test)"
   ]
  },
  {
   "cell_type": "markdown",
   "metadata": {},
   "source": [
    "##### посчитайте руками (не используя sklearn) качество вашего предсказания"
   ]
  },
  {
   "cell_type": "code",
   "execution_count": 87,
   "metadata": {},
   "outputs": [
    {
     "name": "stdout",
     "output_type": "stream",
     "text": [
      "доля правильных ответов: 0.7698209718670077\n"
     ]
    }
   ],
   "source": [
    "acc = np.mean(y_pred == y_test)\n",
    "print('доля правильных ответов:', acc)"
   ]
  },
  {
   "cell_type": "code",
   "execution_count": 88,
   "metadata": {
    "scrolled": true
   },
   "outputs": [
    {
     "data": {
      "text/plain": [
       "array([0, 1])"
      ]
     },
     "execution_count": 88,
     "metadata": {},
     "output_type": "execute_result"
    }
   ],
   "source": [
    "np.unique(y_pred)"
   ]
  },
  {
   "cell_type": "markdown",
   "metadata": {},
   "source": [
    "> Мы получили бейслайн решение. Оно должно давать скорр в районе 0.76"
   ]
  },
  {
   "cell_type": "markdown",
   "metadata": {},
   "source": [
    "____"
   ]
  },
  {
   "cell_type": "code",
   "execution_count": 89,
   "metadata": {},
   "outputs": [
    {
     "name": "stdout",
     "output_type": "stream",
     "text": [
      "0.7698209718670077\n"
     ]
    }
   ],
   "source": [
    "### можете проверить себя\n",
    "\n",
    "from sklearn.metrics import accuracy_score\n",
    "print(accuracy_score(y_test, y_pred))"
   ]
  },
  {
   "cell_type": "code",
   "execution_count": 90,
   "metadata": {},
   "outputs": [
    {
     "name": "stdout",
     "output_type": "stream",
     "text": [
      "0.7647058823529411\n"
     ]
    }
   ],
   "source": [
    "from sklearn.neighbors import KNeighborsClassifier\n",
    "from sklearn.metrics import accuracy_score\n",
    "\n",
    "clf=KNeighborsClassifier(n_neighbors=5)\n",
    "clf.fit(X_train, y_train)\n",
    "y_pred = clf.predict(X_test)\n",
    "\n",
    "np.unique(y_pred)\n",
    "\n",
    "print(accuracy_score(y_test, y_pred))"
   ]
  },
  {
   "cell_type": "raw",
   "metadata": {},
   "source": []
  },
  {
   "cell_type": "markdown",
   "metadata": {},
   "source": [
    "##### TODO продолжение домашки"
   ]
  },
  {
   "cell_type": "raw",
   "metadata": {
    "collapsed": true
   },
   "source": [
    "1) Добавьте еще признаков. Как минимум хочется чтобы вы добавили в X такие признаки как Cabin, Fare и Embarked.\n",
    "\n",
    "2) Предобработайте признаки для нашего алгоритма. Поминим - что он (метрический) основан на том, что мы будем считать расстояния. \n",
    "Для этого нужно подготовить данные соответственно - привести к одному масштабу и проч. \n",
    "(https://sebastianraschka.com/Articles/2014_about_feature_scaling.html#about-standardization)\n",
    "\n",
    "Когда мы делаем такие преобразования - хочется чтобы знания и любая статистика о тесте не проникали в обучение - \n",
    "иначе будет проблема data leakage, а она в свою очередь приведет к переобучению.\n",
    "\n",
    "Поэтому аккуратно делим на трейн-тест (можно на трейн-валидацию-тест) считаем статистики на обучающей части и применяем их к тестовой.\n",
    "\n",
    "\n",
    "3) Дальше. Признаки с пропусками - вы знаете что делать. Нужно проявить фантазию и погуглить как их правильно заполнять.\n",
    "\n",
    "4) Признаки бывают непрерывными и категориальными. К категориальным признакам можно отнести например строки, тип палубы и прочее.\n",
    "Как их предобрабатывать - зависит от алгоритма. \n",
    "Самый простой способ, что сделать с категориальными признаками - представить в виде dummy признаков - так называемый one hot encoding.\n",
    "\n",
    "4) признак Cabin мб может помочь, но нужно проявить фантазию и вытащить что нибудь полезное.\n",
    "Например - вытащить оттуда тип палубы.\n",
    "\n",
    "5) Попробуйте разбить данные на три части (трейн-валидацию-тест) и подобрать гиперпараметр - число ближайших соседей. \n",
    "Как вариант можно выбирать на валидации алгоритм который дал наилучший скорр, а затем посмотреть его качество на тесте.\n",
    "\n",
    "6) советоваться друг с другом можно. Списывать нельзя. Читайте треды kaggle. Спрашивайте преподавателей! Запилите крутые фичи!"
   ]
  },
  {
   "cell_type": "code",
   "execution_count": 91,
   "metadata": {},
   "outputs": [],
   "source": [
    "col = ['Sex', 'Age', 'Pclass', 'Survived','Cabin','Fare','Embarked']"
   ]
  },
  {
   "cell_type": "code",
   "execution_count": 92,
   "metadata": {},
   "outputs": [],
   "source": [
    "train = df_titanic[col].loc[:500]\n",
    "test = df_titanic[col].loc[500:]"
   ]
  },
  {
   "cell_type": "code",
   "execution_count": 93,
   "metadata": {},
   "outputs": [],
   "source": [
    "train = train.fillna(0)\n",
    "test = test.fillna(0)"
   ]
  },
  {
   "cell_type": "code",
   "execution_count": 94,
   "metadata": {},
   "outputs": [],
   "source": [
    "changeS= lambda x: 2 if x == \"male\" else 1\n",
    "train.Sex = train.Sex.apply(changeS)\n",
    "test.Sex = test.Sex.apply(changeS)\n",
    "\n",
    "\n",
    "train.Cabin = train.Cabin.apply(lambda x: x[0] if type(x) == str else 0)\n",
    "test.Cabin = test.Cabin.apply(lambda x: x[0] if type(x) == str else 0)\n",
    "changeC=lambda x: int(x, 32) if x != 0 else 0\n",
    "train.Cabin = train.Cabin.apply(changeC)\n",
    "test.Cabin = test.Cabin.apply(changeC)\n",
    "\n",
    "changeE=lambda x: 0 if x==0 else int(x.replace(' ', ''),36)\n",
    "train.Embarked = train.Embarked.apply(changeE)\n",
    "test.Embarked = test.Embarked.apply(changeE)"
   ]
  },
  {
   "cell_type": "code",
   "execution_count": 95,
   "metadata": {},
   "outputs": [],
   "source": [
    "from sklearn.model_selection import train_test_split\n",
    "Xtrain = train[['Sex', 'Age', 'Pclass','Cabin','Fare','Embarked']]\n",
    "#Xtest = test[['Sex', 'Age', 'Pclass','Cabin','Fare','Embarked']]\n",
    "ytrain = train['Survived'].values\n",
    "#ytest = test['Survived']\n",
    "\n",
    "Xtrain, Xtest, ytrain, ytest = train_test_split(Xtrain, ytrain, test_size=0.2, random_state=1)\n",
    "Xtrain, Xval, ytrain, yval = train_test_split(Xtrain, ytrain, test_size=0.2, random_state=1)"
   ]
  },
  {
   "cell_type": "code",
   "execution_count": 96,
   "metadata": {},
   "outputs": [],
   "source": [
    "meanv = Xtrain.mean()\n",
    "standartv = Xtrain.std()\n",
    "\n",
    "Xtrain = ((Xtrain - meanv) / standartv).values\n",
    "Xtest = ((Xtest - meanv) / standartv).values\n",
    "Xval = ((Xval - meanv) / standartv).values"
   ]
  },
  {
   "cell_type": "code",
   "execution_count": 97,
   "metadata": {},
   "outputs": [
    {
     "name": "stdout",
     "output_type": "stream",
     "text": [
      "точность для 1 попытки: 0.7625\n",
      "точность для 2 попытки: 0.7375\n",
      "точность для 3 попытки: 0.7875\n",
      "точность для 4 попытки: 0.7625\n",
      "точность для 5 попытки: 0.75\n",
      "точность для 6 попытки: 0.7375\n",
      "точность для 7 попытки: 0.7625\n",
      "точность для 8 попытки: 0.7625\n",
      "точность для 9 попытки: 0.7625\n",
      "точность для 10 попытки: 0.75\n",
      "точность для 11 попытки: 0.725\n",
      "точность для 12 попытки: 0.75\n",
      "точность для 13 попытки: 0.7625\n",
      "точность для 14 попытки: 0.75\n",
      "точность для 15 попытки: 0.7125\n",
      "точность для 16 попытки: 0.75\n",
      "точность для 17 попытки: 0.7375\n",
      "точность для 18 попытки: 0.7625\n",
      "точность для 19 попытки: 0.75\n"
     ]
    }
   ],
   "source": [
    "best = float(0)\n",
    "b = 0\n",
    "kontainer = {}\n",
    "AMOUNT = 20\n",
    "for i in range(1, AMOUNT):\n",
    "    knn = KNN(i)\n",
    "    knn.fit(Xtrain, ytrain)\n",
    "    ypred = knn.predict(Xval)\n",
    "    kon = np.mean(ypred == yval)\n",
    "    print(\"точность для {} попытки:\".format(i), kon)\n",
    "    kontainer[i] = kon\n",
    "    if kontainer[i] > best:\n",
    "        best = kontainer[i]\n",
    "        b = i"
   ]
  },
  {
   "cell_type": "code",
   "execution_count": 99,
   "metadata": {},
   "outputs": [
    {
     "name": "stdout",
     "output_type": "stream",
     "text": [
      "best ever точность 3 : 0.7875\n"
     ]
    }
   ],
   "source": [
    "knn = KNN(bestn)\n",
    "knn.fit(Xtrain, ytrain)\n",
    "ypred = knn.predict(Xval)\n",
    "acc = np.mean(ypred == yval)\n",
    "print(\"best ever точность {} :\".format(bestn), acc)"
   ]
  },
  {
   "cell_type": "code",
   "execution_count": null,
   "metadata": {},
   "outputs": [],
   "source": []
  },
  {
   "cell_type": "code",
   "execution_count": null,
   "metadata": {},
   "outputs": [],
   "source": []
  }
 ],
 "metadata": {
  "kernelspec": {
   "display_name": "Python 3",
   "language": "python",
   "name": "python3"
  },
  "language_info": {
   "codemirror_mode": {
    "name": "ipython",
    "version": 3
   },
   "file_extension": ".py",
   "mimetype": "text/x-python",
   "name": "python",
   "nbconvert_exporter": "python",
   "pygments_lexer": "ipython3",
   "version": "3.6.5"
  }
 },
 "nbformat": 4,
 "nbformat_minor": 2
}
