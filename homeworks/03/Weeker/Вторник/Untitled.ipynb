{
 "cells": [
  {
   "cell_type": "code",
   "execution_count": 1,
   "metadata": {},
   "outputs": [],
   "source": [
    "import pandas as pd"
   ]
  },
  {
   "cell_type": "code",
   "execution_count": 172,
   "metadata": {},
   "outputs": [
    {
     "data": {
      "text/html": [
       "<div>\n",
       "<style scoped>\n",
       "    .dataframe tbody tr th:only-of-type {\n",
       "        vertical-align: middle;\n",
       "    }\n",
       "\n",
       "    .dataframe tbody tr th {\n",
       "        vertical-align: top;\n",
       "    }\n",
       "\n",
       "    .dataframe thead th {\n",
       "        text-align: right;\n",
       "    }\n",
       "</style>\n",
       "<table border=\"1\" class=\"dataframe\">\n",
       "  <thead>\n",
       "    <tr style=\"text-align: right;\">\n",
       "      <th></th>\n",
       "      <th>Age</th>\n",
       "      <th>Work class</th>\n",
       "      <th>fnlwgt</th>\n",
       "      <th>Education</th>\n",
       "      <th>Education-num</th>\n",
       "      <th>Marital-status</th>\n",
       "      <th>occupation</th>\n",
       "      <th>relationship</th>\n",
       "      <th>race</th>\n",
       "      <th>Sex</th>\n",
       "      <th>capital-gain</th>\n",
       "      <th>capital-loss</th>\n",
       "      <th>hours-per-week</th>\n",
       "      <th>native-country</th>\n",
       "      <th>Salary</th>\n",
       "    </tr>\n",
       "  </thead>\n",
       "  <tbody>\n",
       "    <tr>\n",
       "      <th>0</th>\n",
       "      <td>39</td>\n",
       "      <td>State-gov</td>\n",
       "      <td>77516</td>\n",
       "      <td>Bachelors</td>\n",
       "      <td>13</td>\n",
       "      <td>Never-married</td>\n",
       "      <td>Adm-clerical</td>\n",
       "      <td>Not-in-family</td>\n",
       "      <td>White</td>\n",
       "      <td>Male</td>\n",
       "      <td>2174</td>\n",
       "      <td>0</td>\n",
       "      <td>40</td>\n",
       "      <td>United-States</td>\n",
       "      <td>&lt;=50K</td>\n",
       "    </tr>\n",
       "    <tr>\n",
       "      <th>1</th>\n",
       "      <td>50</td>\n",
       "      <td>Self-emp-not-inc</td>\n",
       "      <td>83311</td>\n",
       "      <td>Bachelors</td>\n",
       "      <td>13</td>\n",
       "      <td>Married-civ-spouse</td>\n",
       "      <td>Exec-managerial</td>\n",
       "      <td>Husband</td>\n",
       "      <td>White</td>\n",
       "      <td>Male</td>\n",
       "      <td>0</td>\n",
       "      <td>0</td>\n",
       "      <td>13</td>\n",
       "      <td>United-States</td>\n",
       "      <td>&lt;=50K</td>\n",
       "    </tr>\n",
       "    <tr>\n",
       "      <th>2</th>\n",
       "      <td>38</td>\n",
       "      <td>Private</td>\n",
       "      <td>215646</td>\n",
       "      <td>HS-grad</td>\n",
       "      <td>9</td>\n",
       "      <td>Divorced</td>\n",
       "      <td>Handlers-cleaners</td>\n",
       "      <td>Not-in-family</td>\n",
       "      <td>White</td>\n",
       "      <td>Male</td>\n",
       "      <td>0</td>\n",
       "      <td>0</td>\n",
       "      <td>40</td>\n",
       "      <td>United-States</td>\n",
       "      <td>&lt;=50K</td>\n",
       "    </tr>\n",
       "    <tr>\n",
       "      <th>3</th>\n",
       "      <td>53</td>\n",
       "      <td>Private</td>\n",
       "      <td>234721</td>\n",
       "      <td>11th</td>\n",
       "      <td>7</td>\n",
       "      <td>Married-civ-spouse</td>\n",
       "      <td>Handlers-cleaners</td>\n",
       "      <td>Husband</td>\n",
       "      <td>Black</td>\n",
       "      <td>Male</td>\n",
       "      <td>0</td>\n",
       "      <td>0</td>\n",
       "      <td>40</td>\n",
       "      <td>United-States</td>\n",
       "      <td>&lt;=50K</td>\n",
       "    </tr>\n",
       "    <tr>\n",
       "      <th>4</th>\n",
       "      <td>28</td>\n",
       "      <td>Private</td>\n",
       "      <td>338409</td>\n",
       "      <td>Bachelors</td>\n",
       "      <td>13</td>\n",
       "      <td>Married-civ-spouse</td>\n",
       "      <td>Prof-specialty</td>\n",
       "      <td>Wife</td>\n",
       "      <td>Black</td>\n",
       "      <td>Female</td>\n",
       "      <td>0</td>\n",
       "      <td>0</td>\n",
       "      <td>40</td>\n",
       "      <td>Cuba</td>\n",
       "      <td>&lt;=50K</td>\n",
       "    </tr>\n",
       "  </tbody>\n",
       "</table>\n",
       "</div>"
      ],
      "text/plain": [
       "   Age         Work class  fnlwgt   Education  Education-num  \\\n",
       "0   39          State-gov   77516   Bachelors             13   \n",
       "1   50   Self-emp-not-inc   83311   Bachelors             13   \n",
       "2   38            Private  215646     HS-grad              9   \n",
       "3   53            Private  234721        11th              7   \n",
       "4   28            Private  338409   Bachelors             13   \n",
       "\n",
       "        Marital-status          occupation    relationship    race      Sex  \\\n",
       "0        Never-married        Adm-clerical   Not-in-family   White     Male   \n",
       "1   Married-civ-spouse     Exec-managerial         Husband   White     Male   \n",
       "2             Divorced   Handlers-cleaners   Not-in-family   White     Male   \n",
       "3   Married-civ-spouse   Handlers-cleaners         Husband   Black     Male   \n",
       "4   Married-civ-spouse      Prof-specialty            Wife   Black   Female   \n",
       "\n",
       "   capital-gain  capital-loss  hours-per-week  native-country  Salary  \n",
       "0          2174             0              40   United-States   <=50K  \n",
       "1             0             0              13   United-States   <=50K  \n",
       "2             0             0              40   United-States   <=50K  \n",
       "3             0             0              40   United-States   <=50K  \n",
       "4             0             0              40            Cuba   <=50K  "
      ]
     },
     "execution_count": 172,
     "metadata": {},
     "output_type": "execute_result"
    }
   ],
   "source": [
    "#названия столбов взяты из http://archive.ics.uci.edu/ml/machine-learning-databases/adult/adult.names\n",
    "column_names=['Age','Work class','fnlwgt','Education','Education-num','Marital-status','occupation','relationship','race','Sex','capital-gain','capital-loss','hours-per-week','native-country','Salary']\n",
    "t_csv = pd.read_csv(\"adult.data.txt\",sep=',',names=column_names)\n",
    "t_csv.head()"
   ]
  },
  {
   "cell_type": "code",
   "execution_count": 37,
   "metadata": {},
   "outputs": [
    {
     "data": {
      "text/plain": [
       " Male      21790\n",
       " Female    10771\n",
       "Name: Sex, dtype: int64"
      ]
     },
     "execution_count": 37,
     "metadata": {},
     "output_type": "execute_result"
    }
   ],
   "source": [
    "#кол-во мужчин и женщин\n",
    "t_csv['Sex'].value_counts()"
   ]
  },
  {
   "cell_type": "code",
   "execution_count": 78,
   "metadata": {},
   "outputs": [
    {
     "data": {
      "text/plain": [
       "Age    39.433547\n",
       "Name:  Male, dtype: float64"
      ]
     },
     "execution_count": 78,
     "metadata": {},
     "output_type": "execute_result"
    }
   ],
   "source": [
    "#среднее значение возраста людей для мужчин   0- female\\ 1- male\n",
    "t_csv.groupby('Sex').mean()[['Age']].iloc[1]"
   ]
  },
  {
   "cell_type": "code",
   "execution_count": 39,
   "metadata": {},
   "outputs": [
    {
     "name": "stdout",
     "output_type": "stream",
     "text": [
      "0.895857006848684\n"
     ]
    }
   ],
   "source": [
    "#доля американсцев\n",
    "s=0\n",
    "t=0\n",
    "for i in t_csv['native-country']:\n",
    "    if i == ' United-States':\n",
    "        s=s+1\n",
    "    t=t+1\n",
    "print(s/t)"
   ]
  },
  {
   "cell_type": "code",
   "execution_count": 54,
   "metadata": {},
   "outputs": [
    {
     "data": {
      "text/plain": [
       "<matplotlib.axes._subplots.AxesSubplot at 0x7fa05b1b2828>"
      ]
     },
     "execution_count": 54,
     "metadata": {},
     "output_type": "execute_result"
    },
    {
     "data": {
      "image/png": "[encoded data removed]",
      "text/plain": [
       "<Figure size 432x288 with 1 Axes>"
      ]
     },
     "metadata": {},
     "output_type": "display_data"
    }
   ],
   "source": [
    "#график с образованием\n",
    "import matplotlib.pyplot as plt\n",
    "\n",
    "t_csv.groupby('Education').count().plot(kind='bar')"
   ]
  },
  {
   "cell_type": "code",
   "execution_count": 86,
   "metadata": {},
   "outputs": [
    {
     "data": {
      "text/plain": [
       "fnlwgt    80156.000998\n",
       "dtype: float64"
      ]
     },
     "execution_count": 86,
     "metadata": {},
     "output_type": "execute_result"
    }
   ],
   "source": [
    "#Каково среднее и стандартное отклонение ”веса\" для разведенных людей?\n",
    "#mean() среднее\n",
    "#std() станд. отклонение\n",
    "t_csv.loc[t_csv['Marital-status']==' Divorced'][['fnlwgt']].mean() - t_csv.loc[t_csv['Marital-status']==' Divorced'][['fnlwgt']].std()"
   ]
  },
  {
   "cell_type": "code",
   "execution_count": 173,
   "metadata": {},
   "outputs": [
    {
     "name": "stdout",
     "output_type": "stream",
     "text": [
      "5787\n",
      "7841\n",
      "pravda c:\n"
     ]
    }
   ],
   "source": [
    "#Правда ли, что люди, которые получают более 50 тыс., в основном высокообразованные?\n",
    "#были просто огромные проблемы понять, как можно обращаться к нужной ячейке. а подобной информации вообще нигде нет в интернете\n",
    "#еще как вариант посчитать по уникальным значениям. но это проще\n",
    "d=[\" Assoc-acdm\",\" Assoc-voc\",\" Bachelors\",\" Doctorate\",\" HS-grad\",\" Masters\"]\n",
    "set(d)\n",
    "t=0\n",
    "tt=0\n",
    "for i in range(0,len(t_csv.index)):\n",
    "    if t_csv.iloc[i].iloc[14]==' >50K':\n",
    "        if t_csv.iloc[i].iloc[3] in d:\n",
    "            t=t+1\n",
    "        tt=tt+1\n",
    "print(t) #кто имеет высокое образование и больше 50К\n",
    "print(tt) #кто просто больше 50К\n",
    "if t>tt-t:\n",
    "    print('pravda c:')"
   ]
  },
  {
   "cell_type": "code",
   "execution_count": 191,
   "metadata": {},
   "outputs": [
    {
     "data": {
      "text/html": [
       "<div>\n",
       "<style scoped>\n",
       "    .dataframe tbody tr th:only-of-type {\n",
       "        vertical-align: middle;\n",
       "    }\n",
       "\n",
       "    .dataframe tbody tr th {\n",
       "        vertical-align: top;\n",
       "    }\n",
       "\n",
       "    .dataframe thead th {\n",
       "        text-align: right;\n",
       "    }\n",
       "</style>\n",
       "<table border=\"1\" class=\"dataframe\">\n",
       "  <thead>\n",
       "    <tr style=\"text-align: right;\">\n",
       "      <th></th>\n",
       "      <th></th>\n",
       "      <th>Age</th>\n",
       "    </tr>\n",
       "    <tr>\n",
       "      <th>Sex</th>\n",
       "      <th>race</th>\n",
       "      <th></th>\n",
       "    </tr>\n",
       "  </thead>\n",
       "  <tbody>\n",
       "    <tr>\n",
       "      <th rowspan=\"5\" valign=\"top\">Female</th>\n",
       "      <th>Amer-Indian-Eskimo</th>\n",
       "      <td>80</td>\n",
       "    </tr>\n",
       "    <tr>\n",
       "      <th>Asian-Pac-Islander</th>\n",
       "      <td>75</td>\n",
       "    </tr>\n",
       "    <tr>\n",
       "      <th>Black</th>\n",
       "      <td>90</td>\n",
       "    </tr>\n",
       "    <tr>\n",
       "      <th>Other</th>\n",
       "      <td>74</td>\n",
       "    </tr>\n",
       "    <tr>\n",
       "      <th>White</th>\n",
       "      <td>90</td>\n",
       "    </tr>\n",
       "    <tr>\n",
       "      <th rowspan=\"5\" valign=\"top\">Male</th>\n",
       "      <th>Amer-Indian-Eskimo</th>\n",
       "      <td>82</td>\n",
       "    </tr>\n",
       "    <tr>\n",
       "      <th>Asian-Pac-Islander</th>\n",
       "      <td>90</td>\n",
       "    </tr>\n",
       "    <tr>\n",
       "      <th>Black</th>\n",
       "      <td>90</td>\n",
       "    </tr>\n",
       "    <tr>\n",
       "      <th>Other</th>\n",
       "      <td>77</td>\n",
       "    </tr>\n",
       "    <tr>\n",
       "      <th>White</th>\n",
       "      <td>90</td>\n",
       "    </tr>\n",
       "  </tbody>\n",
       "</table>\n",
       "</div>"
      ],
      "text/plain": [
       "                             Age\n",
       "Sex     race                    \n",
       " Female  Amer-Indian-Eskimo   80\n",
       "         Asian-Pac-Islander   75\n",
       "         Black                90\n",
       "         Other                74\n",
       "         White                90\n",
       " Male    Amer-Indian-Eskimo   82\n",
       "         Asian-Pac-Islander   90\n",
       "         Black                90\n",
       "         Other                77\n",
       "         White                90"
      ]
     },
     "execution_count": 191,
     "metadata": {},
     "output_type": "execute_result"
    }
   ],
   "source": [
    "#Каков максимальный возраст мужчин и женщин для каждой расы?\n",
    "t_csv.groupby(['Sex','race']).max()[['Age']]"
   ]
  },
  {
   "cell_type": "code",
   "execution_count": 214,
   "metadata": {},
   "outputs": [
    {
     "name": "stdout",
     "output_type": "stream",
     "text": [
      "{' Portugal', ' Philippines', ' ?', ' Yugoslavia', ' Vietnam', ' Ireland', ' Cambodia', ' Puerto-Rico', ' El-Salvador', ' Hong', ' Germany', ' Japan', ' Guatemala', ' Poland', ' United-States', ' Mexico', ' Canada', ' Italy', ' England', ' Cuba', ' France'}\n"
     ]
    }
   ],
   "source": [
    "#Люди из каких стран работают фермерами / рыбаками?\n",
    "t=t_csv[['native-country','occupation']]\n",
    "s=set()\n",
    "for i in range(0,len(t_csv.index)):\n",
    "    if t.iloc[i].iloc[1] ==' Farming-fishing':\n",
    "        s.add(t.iloc[i].iloc[0])\n",
    "print(s)"
   ]
  },
  {
   "cell_type": "code",
   "execution_count": 224,
   "metadata": {},
   "outputs": [
    {
     "name": "stdout",
     "output_type": "stream",
     "text": [
      "3.14743049705139\n",
      "3.0205223880597014\n",
      "1\n"
     ]
    }
   ],
   "source": [
    "#Рассмотрим отношение числа 1) мужчин-бакалавров к числу мужчин-магистров \n",
    "#2) женщин-бакалавров до женщин-магистров. Какой из них выше?\n",
    "t=t_csv[['Sex','Education']]\n",
    "bm=0\n",
    "bf=0\n",
    "mm=0\n",
    "mf=0\n",
    "for i in range(0,len(t_csv.index)):\n",
    "    if t.iloc[i].iloc[1] ==' Bachelors':\n",
    "        if t.iloc[i].iloc[0] ==' Male':\n",
    "            bm=bm+1\n",
    "        else:\n",
    "            bf=bf+1\n",
    "    if t.iloc[i].iloc[1] ==' Masters':\n",
    "        if t.iloc[i].iloc[0] ==' Male':\n",
    "            mm=mm+1\n",
    "        else:\n",
    "            mf=mf+1\n",
    "print(bm/mm) #male\n",
    "print(bf/mf) #female\n",
    "if bm/mm > bf/mf:\n",
    "    print(1) #а-ля что больше 1 или 2\n",
    "else:\n",
    "    print(2)"
   ]
  },
  {
   "cell_type": "code",
   "execution_count": 283,
   "metadata": {},
   "outputs": [
    {
     "name": "stdout",
     "output_type": "stream",
     "text": [
      "99\n",
      "2354\n",
      "15024\n",
      "-1977\n",
      "4416\n",
      "6418\n",
      "2407\n",
      "-2415\n",
      "-2415\n",
      "2907\n",
      "15024\n",
      "-1977\n",
      "4386\n",
      "15024\n",
      "-1902\n",
      "other with nz=0\n",
      "71\n"
     ]
    }
   ],
   "source": [
    "#Какое наибольшее количество часов человек работает в неделю?\n",
    "#Сколько человек работает столько часов ? \n",
    "#Каков их доход?\n",
    "p=t_csv['hours-per-week'].max()\n",
    "print(p)\n",
    "t_csv.loc[t_csv['hours-per-week']== p][['hours-per-week']].count()\n",
    "#t_csv.groupby('capital-gain').count()[['hours-per-week']==p] хочется так сделать но нельзя\n",
    "d=t_csv[['capital-gain','capital-loss','hours-per-week']]\n",
    "f=0\n",
    "nz=0\n",
    "for i in range(len(t_csv.index)):\n",
    "    if int(d.iloc[i].iloc[2])==int(p):\n",
    "        f=f+1\n",
    "        a=int(d.iloc[i].iloc[0])-int(d.iloc[i].iloc[1])\n",
    "        if a!=0:\n",
    "            nz=nz+1\n",
    "            print(a)\n",
    "print(\"other with nz=0\")\n",
    "print(f-nz)"
   ]
  },
  {
   "cell_type": "code",
   "execution_count": null,
   "metadata": {},
   "outputs": [],
   "source": []
  }
 ],
 "metadata": {
  "kernelspec": {
   "display_name": "Python 3",
   "language": "python",
   "name": "python3"
  },
  "language_info": {
   "codemirror_mode": {
    "name": "ipython",
    "version": 3
   },
   "file_extension": ".py",
   "mimetype": "text/x-python",
   "name": "python",
   "nbconvert_exporter": "python",
   "pygments_lexer": "ipython3",
   "version": "3.6.5"
  }
 },
 "nbformat": 4,
 "nbformat_minor": 2
}
